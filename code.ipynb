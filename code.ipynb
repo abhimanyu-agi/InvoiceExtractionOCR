{
 "cells": [
  {
   "cell_type": "markdown",
   "id": "6312c793",
   "metadata": {},
   "source": []
  },
  {
   "cell_type": "code",
   "execution_count": 1,
   "id": "c7d935bc",
   "metadata": {},
   "outputs": [
    {
     "data": {
      "text/plain": [
       "True"
      ]
     },
     "execution_count": 1,
     "metadata": {},
     "output_type": "execute_result"
    }
   ],
   "source": [
    "from openai import OpenAI\n",
    "import fitz  # PyMuPDF\n",
    "import io\n",
    "import os\n",
    "from PIL import Image\n",
    "import base64\n",
    "import json\n",
    "from dotenv import load_dotenv\n",
    "load_dotenv()"
   ]
  },
  {
   "cell_type": "code",
   "execution_count": 2,
   "id": "0a419a09",
   "metadata": {},
   "outputs": [],
   "source": [
    "api_key = os.getenv(\"OPENAI_API_KEY\")\n",
    "client = OpenAI(api_key=api_key)"
   ]
  },
  {
   "cell_type": "markdown",
   "id": "810da95f",
   "metadata": {},
   "source": [
    "***Convert Multi-page PDF to Base64-encoded Images***"
   ]
  },
  {
   "cell_type": "code",
   "execution_count": 3,
   "id": "ac7122b4",
   "metadata": {},
   "outputs": [],
   "source": [
    "@staticmethod\n",
    "def encode_image(image_path):\n",
    "    with open(image_path, \"rb\") as image_file:\n",
    "        return base64.b64encode(image_file.read()).decode(\"utf-8\")\n",
    "\n",
    "\n",
    "def pdf_to_base64_images(pdf_path):\n",
    "    #Handles PDFs with multiple pages\n",
    "    pdf_document = fitz.open(pdf_path)\n",
    "    base64_images = []\n",
    "    temp_image_paths = []\n",
    "\n",
    "    total_pages = len(pdf_document)\n",
    "\n",
    "    for page_num in range(total_pages):\n",
    "        page = pdf_document.load_page(page_num)\n",
    "        pix = page.get_pixmap()\n",
    "        img = Image.open(io.BytesIO(pix.tobytes()))\n",
    "        temp_image_path = f\"temp_page_{page_num}.png\"\n",
    "        img.save(temp_image_path, format=\"PNG\")\n",
    "        temp_image_paths.append(temp_image_path)\n",
    "        base64_image = encode_image(temp_image_path)\n",
    "        base64_images.append(base64_image)\n",
    "\n",
    "    for temp_image_path in temp_image_paths:\n",
    "        os.remove(temp_image_path)\n",
    "\n",
    "    return base64_images"
   ]
  },
  {
   "cell_type": "markdown",
   "id": "a8e13a03",
   "metadata": {},
   "source": [
    "***Extract Structured Invoice Data from Base64 Image Using GPT-4 Vision***"
   ]
  },
  {
   "cell_type": "code",
   "execution_count": 4,
   "id": "e50f0f9d",
   "metadata": {},
   "outputs": [],
   "source": [
    "def extract_invoice_data(base64_image):\n",
    "    system_prompt = f\"\"\"\n",
    "    You are an OCR-like data extraction tool that extracts retail invoice data from PDFs.\n",
    "   \n",
    "Please extract the data in this invoice, grouping it according to logical themes or subgroups such as store information, transaction details, itemized purchases, totals, and payment information. Output the result in a well-structured JSON format.\n",
    "Please keep the keys and values of the JSON in the original language, including any non-English characters.\n",
    "The type of data you might encounter in the invoice includes but is not limited to: store name and location, receipt date and time, cashier/salesperson, register info, list of items (with quantity, item name, price, amount), subtotal, tax, total, payment method, and any loyalty/survey messages.\n",
    "If the page contains no charge data, please output an empty JSON object and do not fabricate or infer any data.\n",
    "If any fields are blank or missing in the invoice, include them in the JSON as \"null\" values.\n",
    "If there is a table-like list of purchased items, capture each row and all columns (e.g., item name, quantity, unit price, total amount) in the JSON format.\n",
    "Maintain the structure of the itemized list. If a field is blank in any row, represent it as \"null\" in that row.\n",
    "Do not interpolate or make up any data not explicitly present in the invoice.\n",
    "Please ensure that item descriptions, formatting (like size or color), and special characters are preserved exactly as in the original invoice text.\n",
    "\n",
    "\n",
    "    \"\"\"\n",
    "    \n",
    "    response = client.chat.completions.create(\n",
    "        model=\"gpt-4o\",\n",
    "        response_format={ \"type\": \"json_object\" },\n",
    "        messages=[\n",
    "            {\n",
    "                \"role\": \"system\",\n",
    "                \"content\": system_prompt\n",
    "            },\n",
    "            {\n",
    "                \"role\": \"user\",\n",
    "                \"content\": [\n",
    "                    {\"type\": \"text\", \"text\": \"extract the data in this hotel invoice and output into JSON \"},\n",
    "                    {\"type\": \"image_url\", \"image_url\": {\"url\": f\"data:image/png;base64,{base64_image}\", \"detail\": \"high\"}}\n",
    "                ]\n",
    "            }\n",
    "        ],\n",
    "        temperature=0.0,\n",
    "    )\n",
    "    return response.choices[0].message.content"
   ]
  },
  {
   "cell_type": "markdown",
   "id": "46f7fa64",
   "metadata": {},
   "source": [
    "***Extract Invoice Data from Multi-page PDFs and Save as JSON***"
   ]
  },
  {
   "cell_type": "code",
   "execution_count": 5,
   "id": "f3f50c54",
   "metadata": {},
   "outputs": [],
   "source": [
    "def extract_from_multiple_pages(base64_images, original_filename, output_directory):\n",
    "    entire_invoice = []\n",
    "\n",
    "    for base64_image in base64_images:\n",
    "        invoice_json = extract_invoice_data(base64_image)\n",
    "        invoice_data = json.loads(invoice_json)\n",
    "        entire_invoice.append(invoice_data)\n",
    "\n",
    "    # Ensure the output directory exists\n",
    "    os.makedirs(output_directory, exist_ok=True)\n",
    "\n",
    "    # Construct the output file path\n",
    "    output_filename = os.path.join(output_directory, original_filename.replace('.pdf', '_extracted.json'))\n",
    "    \n",
    "    # Save the entire_invoice list as a JSON file\n",
    "    with open(output_filename, 'w', encoding='utf-8') as f:\n",
    "        json.dump(entire_invoice, f, ensure_ascii=False, indent=4)\n",
    "    return output_filename\n",
    "\n",
    "\n",
    "def main_extract(read_path, write_path):\n",
    "    for filename in os.listdir(read_path):\n",
    "        file_path = os.path.join(read_path, filename)\n",
    "        if os.path.isfile(file_path):\n",
    "            base64_images = pdf_to_base64_images(file_path)\n",
    "            extract_from_multiple_pages(base64_images, filename, write_path)\n",
    "\n",
    "\n",
    "read_path= os.getenv(\"read_path\")    # Provide the path where the pdfs are stored.\n",
    "write_path= os.getenv(\"write_path\")  # provide the path where you want to store the output in JSON\n",
    "\n",
    "main_extract(read_path, write_path)"
   ]
  },
  {
   "cell_type": "markdown",
   "id": "41349154",
   "metadata": {},
   "source": [
    "***Transform Extracted Invoice JSONs to a Standard Schema***"
   ]
  },
  {
   "cell_type": "code",
   "execution_count": 7,
   "id": "273795eb",
   "metadata": {},
   "outputs": [],
   "source": [
    "\t\n",
    "def transform_invoice_data(json_raw, json_schema):\n",
    "    system_prompt = f\"\"\"\n",
    "    You are a data transformation tool that takes in JSON data and a reference JSON schema, and outputs JSON data according to the schema.\n",
    "    Not all of the data in the input JSON will fit the schema, so you may need to omit some data or add null values to the output JSON.\n",
    "    Translate all data into English if not already in English.\n",
    "    Ensure values are formatted as specified in the schema (e.g. dates as YYYY-MM-DD).\n",
    "    Here is the schema:\n",
    "    {json_schema}\n",
    "\n",
    "    \"\"\"\n",
    "    \n",
    "    response = client.chat.completions.create(\n",
    "        model=\"gpt-4o\",\n",
    "        response_format={ \"type\": \"json_object\" },\n",
    "        messages=[\n",
    "            {\n",
    "                \"role\": \"system\",\n",
    "                \"content\": system_prompt\n",
    "            },\n",
    "            {\n",
    "                \"role\": \"user\",\n",
    "                \"content\": [\n",
    "                    {\"type\": \"text\", \"text\": f\"Transform the following raw JSON data according to the provided schema. Ensure all data is in English and formatted as specified by values in the schema. Here is the raw JSON: {json_raw}\"}\n",
    "                ]\n",
    "            }\n",
    "        ],\n",
    "        temperature=0.0,\n",
    "    )\n",
    "    return json.loads(response.choices[0].message.content)\n",
    "\n",
    "\n",
    "\n",
    "def main_transform(extracted_invoice_json_path, json_schema_path, save_path):\n",
    "    # Load the JSON schema\n",
    "    with open(json_schema_path, 'r', encoding='utf-8') as f:\n",
    "        json_schema = json.load(f)\n",
    "\n",
    "    # Ensure the save directory exists\n",
    "    os.makedirs(save_path, exist_ok=True)\n",
    "\n",
    "    # Process each JSON file in the extracted invoices directory\n",
    "    for filename in os.listdir(extracted_invoice_json_path):\n",
    "        if filename.endswith(\".json\"):\n",
    "            file_path = os.path.join(extracted_invoice_json_path, filename)\n",
    "\n",
    "            # Load the extracted JSON\n",
    "            with open(file_path, 'r', encoding='utf-8') as f:\n",
    "                json_raw = json.load(f)\n",
    "\n",
    "            # Transform the JSON data\n",
    "            transformed_json = transform_invoice_data(json_raw, json_schema)\n",
    "\n",
    "            # Save the transformed JSON to the save directory\n",
    "            transformed_filename = f\"transformed_{filename}\"\n",
    "            transformed_file_path = os.path.join(save_path, transformed_filename)\n",
    "            with open(transformed_file_path, 'w', encoding='utf-8') as f:\n",
    "                json.dump(transformed_json, f, ensure_ascii=False, indent=2)\n",
    "\n",
    "   \n",
    "extracted_invoice_json_path = os.getenv(\"extracted_invoice_json_path\")\n",
    "json_schema_path = os.getenv(\"json_schema_path\")\n",
    "save_path = os.getenv(\"save_path\")\n",
    "\n",
    "main_transform(extracted_invoice_json_path, json_schema_path, save_path)"
   ]
  },
  {
   "cell_type": "markdown",
   "id": "ada3c650",
   "metadata": {},
   "source": [
    "****Store data into Database and than Query on it***"
   ]
  },
  {
   "cell_type": "code",
   "execution_count": 8,
   "id": "bd41da68",
   "metadata": {},
   "outputs": [],
   "source": [
    "import sqlite3\n"
   ]
  },
  {
   "cell_type": "code",
   "execution_count": 9,
   "id": "fca06b0a",
   "metadata": {},
   "outputs": [],
   "source": [
    "def ingest_transformed_jsons(json_folder_path, db_path):\n",
    "    conn = sqlite3.connect(db_path)\n",
    "    cursor = conn.cursor()\n",
    "\n",
    "    cursor.execute('''\n",
    "    CREATE TABLE IF NOT EXISTS STOREINFO (\n",
    "        id INTEGER PRIMARY KEY AUTOINCREMENT,\n",
    "        store_number INTEGER,\n",
    "        store_name TEXT ,\n",
    "        address TEXT,\n",
    "        phone TEXT,\n",
    "        salesperson TEXT ,\n",
    "        item TEXT,\n",
    "        price REAL \n",
    "    )\n",
    "    ''')\n",
    "\n",
    "    for filename in os.listdir(json_folder_path):\n",
    "        if filename.endswith(\".json\"):\n",
    "            file_path = os.path.join(json_folder_path, filename)\n",
    "\n",
    "            # Load the JSON data\n",
    "            with open(file_path, 'r', encoding='utf-8') as f:\n",
    "                data = json.load(f)\n",
    "            \n",
    "            store_info = data[\"store_information\"]\n",
    "            transaction = data[\"transaction_details\"]\n",
    "            items = data[\"itemized_purchases\"]\n",
    "\n",
    "            for item in items:\n",
    "                cursor.execute('''\n",
    "                INSERT INTO STOREINFO (store_number, store_name, address, phone, salesperson, item, price) \n",
    "                VALUES (?, ?, ?, ?, ?, ?, ?)\n",
    "                ''', (\n",
    "                    store_info.get(\"store_number\"),\n",
    "                    store_info.get(\"name\"),\n",
    "                    store_info.get(\"address\"),\n",
    "                    store_info.get(\"phone\"),\n",
    "                    transaction.get(\"salesperson\"),\n",
    "                    item.get(\"item\"),\n",
    "                    item.get(\"price\")\n",
    "                ))\n",
    "                store_number = cursor.lastrowid\n",
    "\n",
    "    conn.commit()\n",
    "    conn.close()\n"
   ]
  },
  {
   "cell_type": "code",
   "execution_count": 10,
   "id": "9e6f89a4",
   "metadata": {},
   "outputs": [],
   "source": [
    "def execute_query(db_path, query, params=()):\n",
    "    \"\"\"\n",
    "    Execute a SQL query and return the results.\n",
    "\n",
    "    Parameters:\n",
    "    db_path (str): Path to the SQLite database file.\n",
    "    query (str): SQL query to be executed.\n",
    "    params (tuple): Parameters to be passed to the query (default is an empty tuple).\n",
    "\n",
    "    Returns:\n",
    "    list: List of rows returned by the query.\n",
    "    \"\"\"\n",
    "    try:\n",
    "        # Connect to the SQLite database\n",
    "        conn = sqlite3.connect(db_path)\n",
    "        cursor = conn.cursor()\n",
    "\n",
    "        # Execute the query with parameters\n",
    "        cursor.execute(query, params)\n",
    "        results = cursor.fetchall()\n",
    "\n",
    "        # Commit if it's an INSERT/UPDATE/DELETE query\n",
    "        if query.strip().upper().startswith(('INSERT', 'UPDATE', 'DELETE')):\n",
    "            conn.commit()\n",
    "\n",
    "        return results\n",
    "    except sqlite3.Error as e:\n",
    "        print(f\"An error occurred: {e}\")\n",
    "        return []\n",
    "    finally:\n",
    "        # Close the connection\n",
    "        if conn:\n",
    "            conn.close()\n",
    "\n"
   ]
  },
  {
   "cell_type": "code",
   "execution_count": 11,
   "id": "7b6abc0c",
   "metadata": {},
   "outputs": [
    {
     "name": "stdout",
     "output_type": "stream",
     "text": [
      "(1, 104, 'Coca-Cola Store', '3785 Las Vegas Blvd. S. Las Vegas, NV 89109', '800-810-2653', 'PHILIP', 'Mn Santa Socks 3pk', 12.95)\n",
      "(2, 104, 'Coca-Cola Store', '3785 Las Vegas Blvd. S. Las Vegas, NV 89109', '800-810-2653', 'PHILIP', 'Mn Stripe W-Script Socks', 7.95)\n",
      "(3, 104, 'Coca-Cola Store', '3785 Las Vegas Blvd. S. Las Vegas, NV 89109', '800-810-2653', 'PHILIP', 'SYM Sub Script Tee-ref', 24.95)\n",
      "(4, 104, 'Coca-Cola Store', '3785 Las Vegas Blvd. S. Las Vegas, NV 89109', '800-810-2653', 'PHILIP', 'C.Geyser Alp Spring', 16.99)\n",
      "(5, 104, 'Coca-Cola Store', '3785 Las Vegas Blvd. S. Las Vegas, NV 89109', '800-810-2653', 'PHILIP', 'CA Redemption Value', 0.1)\n",
      "(6, 104, 'Coca-Cola Store', '3785 Las Vegas Blvd. S. Las Vegas, NV 89109', '800-810-2653', 'PHILIP', 'ITO EN Oi Ocha Green Tea', 16.99)\n",
      "(7, 104, 'Coca-Cola Store', '3785 Las Vegas Blvd. S. Las Vegas, NV 89109', '800-810-2653', 'PHILIP', 'Fresh 2 Go Pita Hm Chs', 74.05)\n"
     ]
    }
   ],
   "source": [
    "transformed_invoices_path = os.getenv(\"transformed_invoices_path\")\n",
    "db_path = os.getenv(\"db_path\")\n",
    "ingest_transformed_jsons(transformed_invoices_path, db_path)\n",
    "\n",
    "query = '''\n",
    "    SELECT \n",
    "        *\n",
    "    FROM \n",
    "        STOREINFO\n",
    "    '''\n",
    "\n",
    "results = execute_query(db_path, query)\n",
    "for row in results:\n",
    "    print(row)"
   ]
  },
  {
   "cell_type": "markdown",
   "id": "1af283f5",
   "metadata": {},
   "source": [
    "*** Show Output in Gradio ***"
   ]
  },
  {
   "cell_type": "code",
   "execution_count": 14,
   "id": "6c89b724",
   "metadata": {},
   "outputs": [
    {
     "name": "stderr",
     "output_type": "stream",
     "text": [
      "/opt/anaconda3/envs/agentic-env/lib/python3.12/site-packages/tqdm/auto.py:21: TqdmWarning: IProgress not found. Please update jupyter and ipywidgets. See https://ipywidgets.readthedocs.io/en/stable/user_install.html\n",
      "  from .autonotebook import tqdm as notebook_tqdm\n"
     ]
    },
    {
     "name": "stdout",
     "output_type": "stream",
     "text": [
      "* Running on local URL:  http://127.0.0.1:7860\n",
      "* To create a public link, set `share=True` in `launch()`.\n"
     ]
    },
    {
     "data": {
      "text/html": [
       "<div><iframe src=\"http://127.0.0.1:7860/\" width=\"100%\" height=\"500\" allow=\"autoplay; camera; microphone; clipboard-read; clipboard-write;\" frameborder=\"0\" allowfullscreen></iframe></div>"
      ],
      "text/plain": [
       "<IPython.core.display.HTML object>"
      ]
     },
     "metadata": {},
     "output_type": "display_data"
    },
    {
     "data": {
      "text/plain": []
     },
     "execution_count": 14,
     "metadata": {},
     "output_type": "execute_result"
    }
   ],
   "source": [
    "import pandas as pd\n",
    "import gradio as gr\n",
    "import sqlite3\n",
    "\n",
    "# Function to fetch data from the database\n",
    "def fetch_invoice_data(db_path):\n",
    "    conn = sqlite3.connect(db_path)\n",
    "    cursor = conn.cursor()\n",
    "\n",
    "    cursor.execute(\"SELECT * FROM STOREINFO\")\n",
    "    rows = cursor.fetchall()\n",
    "    columns = [desc[0] for desc in cursor.description]\n",
    "\n",
    "    conn.close()\n",
    "    return pd.DataFrame(rows, columns=columns)\n",
    "\n",
    "# DB path\n",
    "db_path = os.getenv(\"db_path\")\n",
    "\n",
    "\n",
    "def display_data():\n",
    "    return fetch_invoice_data(db_path)\n",
    "\n",
    "# Gradio Interface\n",
    "with gr.Blocks(title=\"📋 Invoice Viewer\") as demo:\n",
    "    gr.Markdown(\"## 🧾 Extracted Invoice Data\")\n",
    "    gr.Markdown(\"Easily explore your transformed receipt data from the SQLite database.\")\n",
    "\n",
    "    with gr.Row():\n",
    "        with gr.Column():\n",
    "            gr.Markdown(\"🔍 Click below to refresh and view the latest invoices:\")\n",
    "            refresh_btn = gr.Button(\"🔄 Refresh Invoices\")\n",
    "\n",
    "    output_table = gr.Dataframe(\n",
    "        label=\"Invoice Records\",\n",
    "        interactive=False,\n",
    "        wrap=True\n",
    "    )\n",
    "\n",
    "    refresh_btn.click(fn=display_data, inputs=[], outputs=output_table)\n",
    "\n",
    "demo.launch()\n"
   ]
  }
 ],
 "metadata": {
  "kernelspec": {
   "display_name": "agentic-env",
   "language": "python",
   "name": "python3"
  },
  "language_info": {
   "codemirror_mode": {
    "name": "ipython",
    "version": 3
   },
   "file_extension": ".py",
   "mimetype": "text/x-python",
   "name": "python",
   "nbconvert_exporter": "python",
   "pygments_lexer": "ipython3",
   "version": "3.12.9"
  }
 },
 "nbformat": 4,
 "nbformat_minor": 5
}
